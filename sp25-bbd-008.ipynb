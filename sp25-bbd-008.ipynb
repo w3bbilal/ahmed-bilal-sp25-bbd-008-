{
 "cells": [
  {
   "cell_type": "code",
   "execution_count": 4,
   "id": "24a79652-25a6-4fa2-a9d4-bc50bbe1691c",
   "metadata": {},
   "outputs": [
    {
     "name": "stdout",
     "output_type": "stream",
     "text": [
      "10\n",
      "loop complete\n",
      "9\n",
      "loop complete\n",
      "8\n",
      "loop complete\n",
      "7\n",
      "loop complete\n",
      "6\n",
      "loop complete\n",
      "5\n",
      "loop complete\n",
      "4\n",
      "loop complete\n",
      "3\n",
      "loop complete\n",
      "2\n",
      "loop complete\n",
      "1\n",
      "loop complete\n"
     ]
    }
   ],
   "source": [
    "#question 1\n",
    "\n",
    "num = 10 \n",
    "while num >=1 :\n",
    "    print (num)\n",
    "    num -= 1\n",
    "    print(\"loop complete\")"
   ]
  },
  {
   "cell_type": "code",
   "execution_count": 5,
   "id": "953a2737-c0c0-4667-a1e6-f2b8a4cbe0a6",
   "metadata": {},
   "outputs": [
    {
     "name": "stdout",
     "output_type": "stream",
     "text": [
      "2\n",
      "4\n",
      "6\n",
      "8\n",
      "10\n",
      "12\n",
      "14\n",
      "16\n",
      "18\n"
     ]
    }
   ],
   "source": [
    "#question 2\n",
    "num = 2\n",
    "while num <+ 20:\n",
    "    print(num)\n",
    "    num += 2"
   ]
  },
  {
   "cell_type": "code",
   "execution_count": 8,
   "id": "1811af7b-eaad-4365-b5df-dca9364deb0a",
   "metadata": {},
   "outputs": [
    {
     "name": "stdin",
     "output_type": "stream",
     "text": [
      "enter a number:  1\n"
     ]
    },
    {
     "name": "stdout",
     "output_type": "stream",
     "text": [
      "sum is: 1\n"
     ]
    }
   ],
   "source": [
    "#question 3\n",
    "n = int(input(\"enter a number: \"))\n",
    "i=1\n",
    "total = 0\n",
    "while i <=n:\n",
    "    total += i\n",
    "    i += 1\n",
    "print(\"sum is:\", total)"
   ]
  },
  {
   "cell_type": "code",
   "execution_count": 10,
   "id": "5ff86112-9329-4c80-a498-f5a333a4cd56",
   "metadata": {},
   "outputs": [
    {
     "name": "stdin",
     "output_type": "stream",
     "text": [
      "enter a [positive number:  2\n"
     ]
    },
    {
     "name": "stdout",
     "output_type": "stream",
     "text": [
      "thankyou\n"
     ]
    }
   ],
   "source": [
    "#question 4\n",
    "num = -1\n",
    "while num <=0:\n",
    "    num = int(input(\"enter a [positive number: \"))\n",
    "print(\"thankyou\")"
   ]
  },
  {
   "cell_type": "code",
   "execution_count": 11,
   "id": "2d327eeb-c1a4-43b3-8aa9-2118941a1599",
   "metadata": {},
   "outputs": [
    {
     "name": "stdout",
     "output_type": "stream",
     "text": [
      "D\n",
      "a\n",
      "t\n",
      "a\n"
     ]
    }
   ],
   "source": [
    "#question 5\n",
    "s = \"Data\"\n",
    "i = 0\n",
    "while i < len(s):\n",
    "    print(s[i])\n",
    "    i += 1"
   ]
  },
  {
   "cell_type": "code",
   "execution_count": null,
   "id": "0a37c764-b639-4ea4-8f58-c1c90a362b38",
   "metadata": {},
   "outputs": [
    {
     "name": "stdin",
     "output_type": "stream",
     "text": [
      "enter password:  3\n"
     ]
    },
    {
     "name": "stdout",
     "output_type": "stream",
     "text": [
      "Access granted.\n"
     ]
    },
    {
     "name": "stdin",
     "output_type": "stream",
     "text": [
      "enter password:  3\n"
     ]
    },
    {
     "name": "stdout",
     "output_type": "stream",
     "text": [
      "Access granted.\n"
     ]
    }
   ],
   "source": [
    "#question 6\n",
    "correct_password = \"analytics123\"\n",
    "password = \"\"\n",
    "while password != correct_password:\n",
    "    password = input(\"enter password: \")\n",
    "    print(\"Access granted.\")"
   ]
  },
  {
   "cell_type": "code",
   "execution_count": null,
   "id": "faad2b51-3a10-448b-8673-a9217eacf36e",
   "metadata": {},
   "outputs": [],
   "source": []
  }
 ],
 "metadata": {
  "kernelspec": {
   "display_name": "Python 3 (ipykernel)",
   "language": "python",
   "name": "python3"
  },
  "language_info": {
   "codemirror_mode": {
    "name": "ipython",
    "version": 3
   },
   "file_extension": ".py",
   "mimetype": "text/x-python",
   "name": "python",
   "nbconvert_exporter": "python",
   "pygments_lexer": "ipython3",
   "version": "3.12.4"
  }
 },
 "nbformat": 4,
 "nbformat_minor": 5
}
